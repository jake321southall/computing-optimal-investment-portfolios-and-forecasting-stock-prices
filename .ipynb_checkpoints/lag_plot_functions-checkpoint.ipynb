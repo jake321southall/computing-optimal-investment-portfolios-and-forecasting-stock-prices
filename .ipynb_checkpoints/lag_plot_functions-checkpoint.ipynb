{
 "cells": [
  {
   "cell_type": "markdown",
   "id": "a85cf73e",
   "metadata": {},
   "source": [
    "Functions used from https://github.com/Kaggle/learntools/blob/master/learntools/time_series/utils.py"
   ]
  },
  {
   "cell_type": "code",
   "execution_count": null,
   "id": "93c021a6",
   "metadata": {},
   "outputs": [],
   "source": [
    "def plot_lags(x,\n",
    "              y=None,\n",
    "              lags=6,\n",
    "              leads=None,\n",
    "              nrows=1,\n",
    "              lagplot_kwargs={},\n",
    "              **kwargs):\n",
    "    import math\n",
    "    kwargs.setdefault('nrows', nrows)\n",
    "    orig = leads is not None\n",
    "    leads = leads or 0\n",
    "    kwargs.setdefault('ncols', math.ceil((lags + orig + leads) / nrows))\n",
    "    kwargs.setdefault('figsize', (kwargs['ncols'] * 2, nrows * 2 + 0.5))\n",
    "    fig, axs = plt.subplots(sharex=True, sharey=True, squeeze=False, **kwargs)\n",
    "    for ax, k in zip(fig.get_axes(), range(kwargs['nrows'] * kwargs['ncols'])):\n",
    "        k -= leads + orig\n",
    "        if k + 1 <= lags:\n",
    "            ax = lagplot(x, y, shift=k + 1, ax=ax, **lagplot_kwargs)\n",
    "            title = f\"Lag {k + 1}\" if k + 1 >= 0 else f\"Lead {-k - 1}\"\n",
    "            ax.set_title(title, fontdict=dict(fontsize=14))\n",
    "            ax.set(xlabel=\"\", ylabel=\"\")\n",
    "        else:\n",
    "            ax.axis('off')\n",
    "    plt.setp(axs[-1, :], xlabel=x.name)\n",
    "    plt.setp(axs[:, 0], ylabel=y.name if y is not None else x.name)\n",
    "    fig.tight_layout(w_pad=0.1, h_pad=0.1)\n",
    "    return fig"
   ]
  },
  {
   "cell_type": "code",
   "execution_count": null,
   "id": "e3f577a1",
   "metadata": {},
   "outputs": [],
   "source": [
    "def lagplot(x, y=None, shift=1, standardize=False, ax=None, **kwargs):\n",
    "    from matplotlib.offsetbox import AnchoredText\n",
    "    x_ = x.shift(shift)\n",
    "    if standardize:\n",
    "        x_ = (x_ - x_.mean()) / x_.std()\n",
    "    if y is not None:\n",
    "        y_ = (y - y.mean()) / y.std() if standardize else y\n",
    "    else:\n",
    "        y_ = x\n",
    "    corr = y_.corr(x_)\n",
    "    if ax is None:\n",
    "        fig, ax = plt.subplots()\n",
    "    scatter_kws = dict(\n",
    "        alpha=0.75,\n",
    "        s=3,\n",
    "    )\n",
    "    line_kws = dict(color='C3', )\n",
    "    ax = sns.regplot(x=x_,\n",
    "                     y=y_,\n",
    "                     scatter_kws=scatter_kws,\n",
    "                     line_kws=line_kws,\n",
    "                     lowess=True,\n",
    "                     ax=ax,\n",
    "                     **kwargs)\n",
    "    at = AnchoredText(\n",
    "        f\"{corr:.2f}\",\n",
    "        prop=dict(size=\"large\"),\n",
    "        frameon=True,\n",
    "        loc=\"upper left\",\n",
    "    )\n",
    "    at.patch.set_boxstyle(\"square, pad=0.0\")\n",
    "    ax.add_artist(at)\n",
    "    title = f\"Lag {shift}\" if shift > 0 else f\"Lead {shift}\"\n",
    "    ax.set(title=f\"Lag {shift}\", xlabel=x_.name, ylabel=y_.name)\n",
    "    return ax"
   ]
  }
 ],
 "metadata": {
  "kernelspec": {
   "display_name": "Python 3 (ipykernel)",
   "language": "python",
   "name": "python3"
  },
  "language_info": {
   "codemirror_mode": {
    "name": "ipython",
    "version": 3
   },
   "file_extension": ".py",
   "mimetype": "text/x-python",
   "name": "python",
   "nbconvert_exporter": "python",
   "pygments_lexer": "ipython3",
   "version": "3.8.8"
  }
 },
 "nbformat": 4,
 "nbformat_minor": 5
}
